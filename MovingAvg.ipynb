{
 "cells": [
  {
   "cell_type": "code",
   "execution_count": 28,
   "metadata": {},
   "outputs": [
    {
     "name": "stdout",
     "output_type": "stream",
     "text": [
      "Moving Average\n",
      "\n",
      "170.04666666666665\n",
      "Opening prices of AAPL on(2018-03-27 + 2018-03-26 + 2018-03-23)   /3\n",
      "\n",
      "168.82\n",
      "Opening prices of AAPL on(2018-03-26 + 2018-03-23 + 2018-03-22)   /3\n",
      "\n",
      "171.14333333333332\n",
      "Opening prices of AAPL on(2018-03-23 + 2018-03-22 + 2018-03-21)   /3\n",
      "\n",
      "173.42666666666665\n",
      "Opening prices of AAPL on(2018-03-22 + 2018-03-21 + 2018-03-20)   /3\n",
      "\n",
      "175.86666666666665\n",
      "Opening prices of AAPL on(2018-03-21 + 2018-03-20 + 2018-03-19)   /3\n",
      "\n",
      "177.07000000000002\n",
      "Opening prices of AAPL on(2018-03-20 + 2018-03-19 + 2018-03-16)   /3\n",
      "\n",
      "178.15666666666667\n",
      "Opening prices of AAPL on(2018-03-19 + 2018-03-16 + 2018-03-15)   /3\n",
      "\n",
      "179.15666666666667\n",
      "Opening prices of AAPL on(2018-03-16 + 2018-03-15 + 2018-03-14)   /3\n",
      "\n",
      "180.47\n",
      "Opening prices of AAPL on(2018-03-15 + 2018-03-14 + 2018-03-13)   /3\n",
      "\n",
      "181.06666666666663\n",
      "Opening prices of AAPL on(2018-03-14 + 2018-03-13 + 2018-03-12)   /3\n",
      "\n",
      "180.28\n",
      "Opening prices of AAPL on(2018-03-13 + 2018-03-12 + 2018-03-09)   /3\n",
      "\n",
      "177.91\n",
      "Opening prices of AAPL on(2018-03-12 + 2018-03-09 + 2018-03-08)   /3\n",
      "\n",
      "176.12666666666667\n",
      "Opening prices of AAPL on(2018-03-09 + 2018-03-08 + 2018-03-07)   /3\n",
      "\n",
      "176.10999999999999\n",
      "Opening prices of AAPL on(2018-03-08 + 2018-03-07 + 2018-03-06)   /3\n",
      "\n",
      "176.02\n",
      "Opening prices of AAPL on(2018-03-07 + 2018-03-06 + 2018-03-05)   /3\n",
      "\n",
      "175.3066666666667\n",
      "Opening prices of AAPL on(2018-03-06 + 2018-03-05 + 2018-03-02)   /3\n",
      "\n",
      "175.51666666666665\n",
      "Opening prices of AAPL on(2018-03-05 + 2018-03-02 + 2018-03-01)   /3\n",
      "\n",
      "176.86666666666667\n",
      "Opening prices of AAPL on(2018-03-02 + 2018-03-01 + 2018-02-28)   /3\n",
      "\n",
      "178.96666666666667\n",
      "Opening prices of AAPL on(2018-03-01 + 2018-02-28 + 2018-02-27)   /3\n",
      "\n",
      "178.23666666666668\n",
      "Opening prices of AAPL on(2018-02-28 + 2018-02-27 + 2018-02-26)   /3\n",
      "# of operations performed: \n",
      "20\n",
      "length of total set: \n",
      "9399\n"
     ]
    },
    {
     "data": {
      "image/png": "[encoded data removed]",
      "text/plain": [
       "<Figure size 432x288 with 1 Axes>"
      ]
     },
     "metadata": {
      "needs_background": "light"
     },
     "output_type": "display_data"
    }
   ],
   "source": [
    "import pandas as pd\n",
    "import numpy as np\n",
    "import matplotlib.pyplot as plt\n",
    "import csv as csv\n",
    "\n",
    "#print(\"Hello Bulls and Bears!\")\n",
    "#ata = pd.read_csv(\"OPEC-ORB.csv\")\n",
    "data = pd.read_csv(\"https://www.quandl.com/api/v3/datasets/WIKI/AAPL.csv\")\n",
    "\n",
    "ar= np.array(data.Open)\n",
    "date= np.array(data.Date)\n",
    "\n",
    "length=len(ar)-1\n",
    "\n",
    "mainLoop=True\n",
    "i=0\n",
    "j=1\n",
    "k=2\n",
    "n=3\n",
    "print (\"Moving Average\")\n",
    "while(mainLoop):\n",
    "    \n",
    "    print(\"\")\n",
    "    \n",
    "    sumn = ar[i]+ar[j]+ar[k]\n",
    "    avg=sumn/n\n",
    "    print (avg)\n",
    "    print(\"Opening prices of AAPL on(\"+date[i]+\" + \"+date[j]+\" + \"+date[k]+ \")   /3\")\n",
    " \n",
    "    i+=1\n",
    "    j+=1\n",
    "    k+=1\n",
    "\n",
    "    if(i==20): \n",
    "        print (\"# of operations performed: \")\n",
    "        print(i)\n",
    "        print (\"length of total set: \")\n",
    "        print(length)\n",
    "        mainLoop=False\n",
    "        \n",
    "data.plot(\n",
    "    kind='line',\n",
    "    x='Date',\n",
    "    y='Open',\n",
    "    color='red')\n",
    "plt.show()\n",
    "#print(data)\n",
    "\n",
    "#print (length)\n",
    "#print(data)\n",
    "#while()\n",
    "\n",
    "\n"
   ]
  },
  {
   "cell_type": "code",
   "execution_count": null,
   "metadata": {},
   "outputs": [],
   "source": [
    "\n",
    "\"\"\"\n",
    "\n",
    "\"\"\"\n",
    "\n"
   ]
  },
  {
   "cell_type": "code",
   "execution_count": 11,
   "metadata": {},
   "outputs": [
    {
     "name": "stdout",
     "output_type": "stream",
     "text": [
      "0\n",
      "1\n",
      "2\n",
      "3\n",
      "4\n"
     ]
    }
   ],
   "source": [
    "i=0\n",
    "while(i<5): \n",
    "    print(i)\n",
    "    i=i+1"
   ]
  },
  {
   "cell_type": "code",
   "execution_count": null,
   "metadata": {},
   "outputs": [],
   "source": []
  },
  {
   "cell_type": "code",
   "execution_count": null,
   "metadata": {},
   "outputs": [],
   "source": []
  }
 ],
 "metadata": {
  "kernelspec": {
   "display_name": "Python 3",
   "language": "python",
   "name": "python3"
  },
  "language_info": {
   "codemirror_mode": {
    "name": "ipython",
    "version": 3
   },
   "file_extension": ".py",
   "mimetype": "text/x-python",
   "name": "python",
   "nbconvert_exporter": "python",
   "pygments_lexer": "ipython3",
   "version": "3.7.1"
  }
 },
 "nbformat": 4,
 "nbformat_minor": 2
}
