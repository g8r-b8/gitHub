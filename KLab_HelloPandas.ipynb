{
 "cells": [
  {
   "cell_type": "code",
   "execution_count": 15,
   "metadata": {},
   "outputs": [
    {
     "name": "stdout",
     "output_type": "stream",
     "text": [
      "Hello Pandas!\n"
     ]
    },
    {
     "data": {
      "image/png": "[encoded data removed]",
      "text/plain": [
       "<Figure size 432x288 with 1 Axes>"
      ]
     },
     "metadata": {
      "needs_background": "light"
     },
     "output_type": "display_data"
    },
    {
     "name": "stdout",
     "output_type": "stream",
     "text": [
      "     G  TRB  AST  STL  BLK  PTS\n",
      "0    1   12    2    0    0   24\n",
      "1    2   10    3    1    0   31\n",
      "2    3    4    3    2    0   22\n",
      "3    4    5    2    2    2   35\n",
      "4    5    9    5    3    1   21\n",
      "5    6    7    4    4    0   31\n",
      "6    7    6    5    2    1   19\n",
      "7    8   11    2    0    0   25\n",
      "8    9    7    3    1    0   12\n",
      "9   10    6    2    1    1   20\n",
      "10  11    9    4    3    0   26\n",
      "11  12   15    4    3    0   31\n",
      "12  13    6    2    1    0   18\n",
      "13  14   10    2    2    0   27\n",
      "14  15   10    2    1    2   29\n",
      "15  16   10    5    2    1   17\n",
      "16  17    8    3    1    1   37\n",
      "17  18    9    2    1    2   34\n",
      "18  19    8    2    0    0   27\n",
      "19  20    9    1    5    1   36\n",
      "20  21    3    4    4    1   32\n",
      "21  22    8    4    2    2   20\n",
      "22  23    6    4    1    0   28\n",
      "23  24   14    4    0    0   29\n",
      "24  25   10    6    4    0   28\n",
      "25  26    6    1    1    0   37\n",
      "26  27    8    2    2    0   30\n",
      "27  28    6    1    0    1   21\n",
      "28  29    9    0    0    0   27\n",
      "29  30    6    1    0    0   45\n",
      "30  31    1    5    2    0   21\n",
      "31  32    7    6    5    0   30\n",
      "32  33    4    6    6    1   31\n",
      "33  34   11    4    1    0   20\n",
      "34  35   11    5    3    2   41\n",
      "35  36    4    2    4    0   33\n",
      "36  37    7    5    2    0   32\n",
      "37  38   10    3    0    0   33\n",
      "38  39    8    2    3    0   16\n",
      "39  40    5    2    0    0   18\n",
      "40  41    7    3    3    0   24\n",
      "41  42    5    6    1    0   11\n",
      "42  43    2    8    1    0   30\n",
      "43  44    6    2    2    1   25\n",
      "44  45    6    4    1    0   21\n",
      "45  46    3    5    3    0   38\n",
      "46  47    6    1    1    0   26\n",
      "47  48    1    2    2    0   31\n",
      "48  49    9    2    1    0   25\n",
      "49  50    8    4    2    0   25\n",
      "50  51   10    2    1    1   33\n",
      "51  52   10    6    2    0   22\n",
      "52  53    6    4    2    0   37\n",
      "53  54    9    3    0    2   28\n",
      "54  55    4    5    6    0   14\n",
      "55  56    7    5    1    0   15\n",
      "56  57    9    3    0    0   26\n",
      "57  58    6    4    0    0   29\n",
      "58  59    4    4    1    0   22\n",
      "59  60    6    1    1    1   20\n"
     ]
    }
   ],
   "source": [
    "import pandas as pd\n",
    "import matplotlib.pyplot as plt\n",
    "\n",
    "print(\"Hello Pandas!\")\n",
    "data = pd.read_csv(\"KL.csv\")\n",
    "data.plot(\n",
    "    kind='line',\n",
    "    x='G',\n",
    "    y='PTS',\n",
    "    color='red')\n",
    "plt.show()\n",
    "print(data)\n",
    "\n"
   ]
  },
  {
   "cell_type": "code",
   "execution_count": null,
   "metadata": {},
   "outputs": [],
   "source": []
  },
  {
   "cell_type": "code",
   "execution_count": null,
   "metadata": {},
   "outputs": [],
   "source": []
  }
 ],
 "metadata": {
  "kernelspec": {
   "display_name": "Python 3",
   "language": "python",
   "name": "python3"
  },
  "language_info": {
   "codemirror_mode": {
    "name": "ipython",
    "version": 3
   },
   "file_extension": ".py",
   "mimetype": "text/x-python",
   "name": "python",
   "nbconvert_exporter": "python",
   "pygments_lexer": "ipython3",
   "version": "3.7.1"
  }
 },
 "nbformat": 4,
 "nbformat_minor": 2
}
